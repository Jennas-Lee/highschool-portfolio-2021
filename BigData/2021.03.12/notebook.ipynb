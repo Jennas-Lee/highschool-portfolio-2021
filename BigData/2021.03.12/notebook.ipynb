{
 "cells": [
  {
   "cell_type": "markdown",
   "source": [
    "# 2021-03-12"
   ],
   "metadata": {
    "collapsed": false
   }
  },
  {
   "cell_type": "code",
   "execution_count": 3,
   "outputs": [
    {
     "name": "stdout",
     "output_type": "stream",
     "text": [
      "['세명', '컴퓨터', '고등학교']\n",
      "<class 'list'>\n",
      "1\n",
      "['세명', '컴퓨터', '고등학교', '소프트웨어과']\n",
      "['세명', '컴퓨터', '고등학교', '인공지능', '소프트웨어과']\n",
      "['세명', '컴퓨터', '고등학교', '인공지능']\n",
      "2\n"
     ]
    }
   ],
   "source": [
    "# list, 리스트\n",
    "\n",
    "subway = ['세명', '컴퓨터', '고등학교']\n",
    "print(subway)\n",
    "print(type(subway))\n",
    "print(subway.index('컴퓨터'))\n",
    "\n",
    "subway.append('소프트웨어과')\n",
    "print(subway)\n",
    "\n",
    "subway.insert(3, '인공지능')\n",
    "print(subway)\n",
    "\n",
    "subway.pop()\n",
    "print(subway)\n",
    "\n",
    "subway.append('세명')\n",
    "print(subway.count('세명'))\n",
    "\n",
    "subway.sort()"
   ],
   "metadata": {
    "collapsed": false,
    "pycharm": {
     "name": "#%%\n"
    }
   }
  }
 ],
 "metadata": {
  "kernelspec": {
   "display_name": "Python 3",
   "language": "python",
   "name": "python3"
  },
  "language_info": {
   "codemirror_mode": {
    "name": "ipython",
    "version": 2
   },
   "file_extension": ".py",
   "mimetype": "text/x-python",
   "name": "python",
   "nbconvert_exporter": "python",
   "pygments_lexer": "ipython2",
   "version": "2.7.6"
  }
 },
 "nbformat": 4,
 "nbformat_minor": 0
}