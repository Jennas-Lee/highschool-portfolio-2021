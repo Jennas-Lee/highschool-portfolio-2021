{
 "cells": [
  {
   "cell_type": "markdown",
   "source": [
    "# 2021-03-16"
   ],
   "metadata": {
    "collapsed": false,
    "pycharm": {
     "name": "#%% md\n"
    }
   }
  },
  {
   "cell_type": "code",
   "execution_count": 10,
   "outputs": [
    {
     "name": "stdout",
     "output_type": "stream",
     "text": [
      "{3: '세명', 100: '컴퓨터'}\n",
      "세명\n",
      "컴퓨터\n",
      "인공\n",
      "{3: '세명', 100: '컴퓨터'}\n",
      "{'a-1': '세명', 'a-2': '홍길동'}\n",
      "dict_keys(['a-1', 'a-2'])\n",
      "dict_values(['세명', '홍길동'])\n",
      "dict_items([('a-1', '세명'), ('a-2', '홍길동')])\n"
     ]
    }
   ],
   "source": [
    "# dictionary, 사전\n",
    "\n",
    "big_data = {3: '세명', 100: '컴퓨터'}\n",
    "print(big_data)\n",
    "print(big_data[3])\n",
    "print(big_data[100])\n",
    "\n",
    "print(big_data.get(1, '인공'))\n",
    "print(big_data)\n",
    "\n",
    "small_data = {'a-1': '세명', 'a-2': '홍길동'}\n",
    "print(small_data)\n",
    "\n",
    "print(small_data.keys())\n",
    "print(small_data.values())\n",
    "print(small_data.items())"
   ],
   "metadata": {
    "collapsed": false,
    "pycharm": {
     "name": "#%%\n"
    }
   }
  },
  {
   "cell_type": "code",
   "execution_count": 13,
   "outputs": [
    {
     "name": "stdout",
     "output_type": "stream",
     "text": [
      "{'커피', '주스', '우유'} <class 'set'>\n",
      "['커피', '주스', '우유'] <class 'list'>\n"
     ]
    }
   ],
   "source": [
    "# 자료구조 변경\n",
    "\n",
    "menu = {'커피', '우유', '주스'}\n",
    "print(menu, type(menu))\n",
    "\n",
    "menu = list(menu)\n",
    "print(menu, type(menu))"
   ],
   "metadata": {
    "collapsed": false,
    "pycharm": {
     "name": "#%%\n"
    }
   }
  },
  {
   "cell_type": "markdown",
   "source": [
    "퀴즈) 당신의 학교에서 파이썬 코딩 대회를 주최합니다 참석률을 높이기 위해 댓글 이벤트를 진행하기로 하였습니다. 댓글 작성자들 중 추첨을 통해 1명은 치킨, 3명은 커피 쿠폰을 받게 됩니다. 추첨 프로그램을 작성하시오.\n",
    "\n",
    "1. 조건1 : 편의상 댓글은 20명이 작성하였고, 아이디는 1~20이라고 가정\n",
    "2. 조건2 : 댓글 내용과 상관 없이 무작위로 추첨하되 중복 불가\n",
    "3. 조건3 : `random` 모듈의 `shuffle`과 `sample`을 활용\n",
    "\n",
    "랜덤하게 4명을 선정, 4명 중 1명은 치킨, 나머지는 커피"
   ],
   "metadata": {
    "collapsed": false
   }
  },
  {
   "cell_type": "code",
   "execution_count": 16,
   "outputs": [
    {
     "name": "stdout",
     "output_type": "stream",
     "text": [
      "치킨 : 15\n",
      "커피 : [5, 18, 13]\n"
     ]
    }
   ],
   "source": [
    "from random import *\n",
    "\n",
    "id_list = []\n",
    "for i in range(0, 20):\n",
    "    id_list.append(i + 1)\n",
    "\n",
    "shuffle(id_list)\n",
    "winner_list = sample(id_list, 4)\n",
    "\n",
    "print(\"치킨 : {}\".format(winner_list[0]))\n",
    "print(\"커피 : {}\".format(winner_list[1:]))"
   ],
   "metadata": {
    "collapsed": false,
    "pycharm": {
     "name": "#%%\n"
    }
   }
  },
  {
   "cell_type": "code",
   "execution_count": 17,
   "outputs": [
    {
     "name": "stdout",
     "output_type": "stream",
     "text": [
      "마스크를 챙기세요\n"
     ]
    }
   ],
   "source": [
    "# if문\n",
    "\n",
    "weather = '미세먼지'\n",
    "\n",
    "if weather == '비':\n",
    "    print('우산을 챙기세요')\n",
    "elif weather == '미세먼지':\n",
    "    print('마스크를 챙기세요')\n",
    "else:\n",
    "    print('준비물 필요 없음')"
   ],
   "metadata": {
    "collapsed": false,
    "pycharm": {
     "name": "#%%\n"
    }
   }
  },
  {
   "cell_type": "code",
   "execution_count": null,
   "outputs": [],
   "source": [
    "weather = input('오늘 날씨 어때요?')\n",
    "\n",
    "if weather == '비':\n",
    "    print('우산을 챙기세요')\n",
    "elif weather == '미세먼지':\n",
    "    print('마스크를 챙기세요')\n",
    "else:\n",
    "    print('준비물 필요 없음')"
   ],
   "metadata": {
    "collapsed": false,
    "pycharm": {
     "name": "#%%\n"
    }
   }
  },
  {
   "cell_type": "markdown",
   "source": [
    "30도 이상이면 `너무 더워요`\n",
    "\n",
    "10도 이상 ~ 30도 미만이면 `괜찮은 날씨에요`\n",
    "\n",
    "0도 이상 ~ 10도 미만이면 `외투를 챙기세요`\n",
    "\n",
    "이외면 `너무 추워요`"
   ],
   "metadata": {
    "collapsed": false
   }
  },
  {
   "cell_type": "code",
   "execution_count": 21,
   "outputs": [
    {
     "ename": "ValueError",
     "evalue": "invalid literal for int() with base 10: ''",
     "output_type": "error",
     "traceback": [
      "\u001B[1;31m---------------------------------------------------------------------------\u001B[0m",
      "\u001B[1;31mValueError\u001B[0m                                Traceback (most recent call last)",
      "\u001B[1;32m<ipython-input-21-258a91b2069a>\u001B[0m in \u001B[0;36m<module>\u001B[1;34m\u001B[0m\n\u001B[1;32m----> 1\u001B[1;33m \u001B[0mtemp\u001B[0m \u001B[1;33m=\u001B[0m \u001B[0mint\u001B[0m\u001B[1;33m(\u001B[0m\u001B[0minput\u001B[0m\u001B[1;33m(\u001B[0m\u001B[1;34m'오늘 기온은 몇도에요? : '\u001B[0m\u001B[1;33m)\u001B[0m\u001B[1;33m)\u001B[0m\u001B[1;33m\u001B[0m\u001B[1;33m\u001B[0m\u001B[0m\n\u001B[0m\u001B[0;32m      2\u001B[0m \u001B[1;33m\u001B[0m\u001B[0m\n\u001B[0;32m      3\u001B[0m \u001B[1;32mif\u001B[0m \u001B[0mtemp\u001B[0m \u001B[1;33m>=\u001B[0m \u001B[1;36m30\u001B[0m\u001B[1;33m:\u001B[0m\u001B[1;33m\u001B[0m\u001B[1;33m\u001B[0m\u001B[0m\n\u001B[0;32m      4\u001B[0m     \u001B[0mprint\u001B[0m\u001B[1;33m(\u001B[0m\u001B[1;34m'너무 더워요'\u001B[0m\u001B[1;33m)\u001B[0m\u001B[1;33m\u001B[0m\u001B[1;33m\u001B[0m\u001B[0m\n\u001B[0;32m      5\u001B[0m \u001B[1;32melif\u001B[0m \u001B[0mtemp\u001B[0m \u001B[1;33m>=\u001B[0m \u001B[1;36m10\u001B[0m\u001B[1;33m:\u001B[0m\u001B[1;33m\u001B[0m\u001B[1;33m\u001B[0m\u001B[0m\n",
      "\u001B[1;31mValueError\u001B[0m: invalid literal for int() with base 10: ''"
     ]
    }
   ],
   "source": [
    "temp = int(input('오늘 기온은 몇도에요? : '))\n",
    "\n",
    "if temp >= 30:\n",
    "    print('너무 더워요')\n",
    "elif temp >= 10:\n",
    "    print('괜찮은 날씨에요')\n",
    "elif temp >= 0:\n",
    "    print('외투를 챙기세요')\n",
    "else:\n",
    "    print('너무 추워요')"
   ],
   "metadata": {
    "collapsed": false,
    "pycharm": {
     "name": "#%%\n"
    }
   }
  },
  {
   "cell_type": "code",
   "execution_count": 23,
   "outputs": [
    {
     "name": "stdout",
     "output_type": "stream",
     "text": [
      "대기번호 : 0\n",
      "대기번호 : 1\n",
      "대기번호 : 2\n",
      "대기번호 : 3\n",
      "대기번호 : 4\n",
      "대기번호 : 0\n",
      "대기번호 : 1\n",
      "대기번호 : 2\n",
      "대기번호 : 3\n",
      "대기번호 : 4\n",
      "대기번호 : aaa\n",
      "대기번호 : bbb\n",
      "대기번호 : ccc\n"
     ]
    }
   ],
   "source": [
    "# 반복문\n",
    "# for문\n",
    "\n",
    "for waiting_no in [0, 1, 2, 3, 4]:\n",
    "    print('대기번호 : {}'.format(waiting_no))\n",
    "\n",
    "for waiting_no in range(0, 5):\n",
    "    print('대기번호 : {}'.format(waiting_no))\n",
    "\n",
    "st = ['aaa', 'bbb', 'ccc']\n",
    "for waiting_no in st:\n",
    "    print('대기번호 : {}'.format(waiting_no))"
   ],
   "metadata": {
    "collapsed": false,
    "pycharm": {
     "name": "#%%\n"
    }
   }
  }
 ],
 "metadata": {
  "kernelspec": {
   "display_name": "Python 3",
   "language": "python",
   "name": "python3"
  },
  "language_info": {
   "codemirror_mode": {
    "name": "ipython",
    "version": 2
   },
   "file_extension": ".py",
   "mimetype": "text/x-python",
   "name": "python",
   "nbconvert_exporter": "python",
   "pygments_lexer": "ipython2",
   "version": "2.7.6"
  }
 },
 "nbformat": 4,
 "nbformat_minor": 0
}