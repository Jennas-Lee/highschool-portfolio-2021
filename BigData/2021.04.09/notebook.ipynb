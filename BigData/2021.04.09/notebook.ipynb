{
 "cells": [
  {
   "cell_type": "markdown",
   "source": [
    "# 2021-04-08"
   ],
   "metadata": {
    "collapsed": false,
    "pycharm": {
     "name": "#%% md\n"
    }
   }
  },
  {
   "cell_type": "markdown",
   "source": [
    "## [Step1] 유동 인구 데이터를 컴퓨터로 저장한 후 출력하기"
   ],
   "metadata": {
    "collapsed": false
   }
  },
  {
   "cell_type": "markdown",
   "source": [
    "### 일주일간의 유동인구수를 리스트에 저장\n",
    "### 저장 후 출력"
   ],
   "metadata": {
    "collapsed": false
   }
  },
  {
   "cell_type": "code",
   "execution_count": 2,
   "outputs": [
    {
     "name": "stdout",
     "output_type": "stream",
     "text": [
      "유동인구수 :  [242, 256, 237, 223, 263, 81, 46]\n"
     ]
    }
   ],
   "source": [
    "human = [242, 256, 237, 223, 263, 81, 46]\n",
    "print(\"유동인구수 : \", human)"
   ],
   "metadata": {
    "collapsed": false,
    "pycharm": {
     "name": "#%%\n"
    }
   }
  },
  {
   "cell_type": "markdown",
   "source": [
    "## [Step2] 유동인구수 데이터의 총합과 평균을 리스트에 추가하기"
   ],
   "metadata": {
    "collapsed": false
   }
  },
  {
   "cell_type": "code",
   "execution_count": 5,
   "outputs": [
    {
     "name": "stdout",
     "output_type": "stream",
     "text": [
      "합계 :  1348\n",
      "평균 :  224.66666666666666\n"
     ]
    }
   ],
   "source": [
    "human_sum = sum(human)\n",
    "human_avg = sum(human)/(len(human)-1)\n",
    "print(\"합계 : \", human_sum)\n",
    "print(\"평균 : \", human_avg)"
   ],
   "metadata": {
    "collapsed": false,
    "pycharm": {
     "name": "#%%\n"
    }
   }
  },
  {
   "cell_type": "code",
   "execution_count": 10,
   "outputs": [
    {
     "data": {
      "text/plain": "<Figure size 432x288 with 1 Axes>",
      "image/png": "[encoded data removed]"
     },
     "metadata": {
      "needs_background": "light"
     },
     "output_type": "display_data"
    }
   ],
   "source": [
    "import matplotlib.pyplot as plt\n",
    "\n",
    "week = ['MON', 'TUE', 'WED', 'THU', 'FRI', 'SAT', 'SUN']\n",
    "\n",
    "plt.rc('font', family='NanumBarunGothic')\n",
    "\n",
    "plt.title(\"일주일간 유동 인구수 데이터\")\n",
    "plt.xlabel(\"요일\")\n",
    "plt.ylabel(\"유동인구수\")\n",
    "\n",
    "plt.plot(week, human)\n",
    "plt.show()"
   ],
   "metadata": {
    "collapsed": false,
    "pycharm": {
     "name": "#%%\n"
    }
   }
  }
 ],
 "metadata": {
  "kernelspec": {
   "display_name": "Python 3",
   "language": "python",
   "name": "python3"
  },
  "language_info": {
   "codemirror_mode": {
    "name": "ipython",
    "version": 2
   },
   "file_extension": ".py",
   "mimetype": "text/x-python",
   "name": "python",
   "nbconvert_exporter": "python",
   "pygments_lexer": "ipython2",
   "version": "2.7.6"
  }
 },
 "nbformat": 4,
 "nbformat_minor": 0
}