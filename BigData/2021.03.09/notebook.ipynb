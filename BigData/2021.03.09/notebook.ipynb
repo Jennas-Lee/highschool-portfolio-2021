{
 "cells": [
  {
   "cell_type": "markdown",
   "source": [
    "# 2021-03-09"
   ],
   "metadata": {
    "collapsed": false,
    "pycharm": {
     "name": "#%% md\n"
    }
   }
  },
  {
   "cell_type": "code",
   "execution_count": null,
   "outputs": [],
   "source": [
    "# 연산자\n",
    "\n",
    "print(1 + 1)\n",
    "print(2 + 4 * 3)\n",
    "\n",
    "a = 10\n",
    "a += 2 # a = a + 2\n",
    "print(a)\n",
    "a *= 2 # a = a * 2\n",
    "print(a)\n",
    "a -= 2 # a = a - 2\n",
    "print(a)\n",
    "a /= 2 # a = a / 2\n",
    "print(a)"
   ],
   "metadata": {
    "collapsed": false,
    "pycharm": {
     "name": "#%%\n"
    }
   }
  },
  {
   "cell_type": "code",
   "execution_count": null,
   "outputs": [],
   "source": [
    "# 연산자\n",
    "\n",
    "print(abs(-20))\n",
    "print(max(3, 10))\n",
    "print(min(3, 10))"
   ],
   "metadata": {
    "collapsed": false,
    "pycharm": {
     "name": "#%%\n"
    }
   }
  },
  {
   "cell_type": "code",
   "execution_count": 23,
   "outputs": [
    {
     "name": "stdout",
     "output_type": "stream",
     "text": [
      "0.9815143222821319\n",
      "6.387907331442716\n",
      "9\n",
      "6\n",
      "50\n",
      "25\n"
     ]
    }
   ],
   "source": [
    "# 랜덤 함수\n",
    "\n",
    "from random import *\n",
    "\n",
    "print(random())\n",
    "\n",
    "print(random() * 10)\n",
    "\n",
    "# 0 ~ 10 미만의 임의의 정수 만들기\n",
    "print(int(random() * 10))\n",
    "\n",
    "# 1 ~ 10 이하의 임의의 정수 만들기\n",
    "print(int(random() * 10) + 1)\n",
    "\n",
    "# 1 ~ 50 이하의 임의의 정수 만들기\n",
    "print(int(random() * 50) + 1)\n",
    "\n",
    "print(randrange(1, 51))\n",
    "print(randint(1, 51))"
   ],
   "metadata": {
    "collapsed": false,
    "pycharm": {
     "name": "#%%\n"
    }
   }
  },
  {
   "cell_type": "code",
   "execution_count": 24,
   "outputs": [
    {
     "name": "stdout",
     "output_type": "stream",
     "text": [
      "세명컴퓨터 고등학교\n",
      "인공지능 소프트웨어과\n",
      "\n",
      "세명컴퓨터 고등학교\n",
      "인공지능 소프트웨어과\n",
      "\n"
     ]
    }
   ],
   "source": [
    "temp1 = '세명컴퓨터 고등학교'\n",
    "temp2 = '인공지능 소프트웨어과'\n",
    "print(temp1)\n",
    "print(temp2)\n",
    "\n",
    "temp3 = '''\n",
    "세명컴퓨터 고등학교\n",
    "인공지능 소프트웨어과\n",
    "'''\n",
    "print(temp3)"
   ],
   "metadata": {
    "collapsed": false,
    "pycharm": {
     "name": "#%%\n"
    }
   }
  },
  {
   "cell_type": "code",
   "execution_count": 27,
   "outputs": [
    {
     "name": "stdout",
     "output_type": "stream",
     "text": [
      "성별 : 3\n",
      "년 : 03\n",
      "월 : 01\n",
      "일 : 01\n",
      "생년월일 : 030101\n",
      "뒤 7자리 : 3456789\n",
      "9\n",
      "8\n",
      "뒤 7자리 : 3456789\n"
     ]
    }
   ],
   "source": [
    "# 슬라이싱\n",
    "\n",
    "jumin_number = '030101-3456789'\n",
    "\n",
    "print('성별 : ' + jumin_number[7])\n",
    "print('년 : ' + jumin_number[0:2])\n",
    "print('월 : ' + jumin_number[2:4])\n",
    "print('일 : ' + jumin_number[4:6])\n",
    "print('생년월일 : ' + jumin_number[:6])\n",
    "print('뒤 7자리 : ' + jumin_number[7:])\n",
    "print(jumin_number[-1])\n",
    "print(jumin_number[-2])\n",
    "print('뒤 7자리 : ' + jumin_number[-7:])"
   ],
   "metadata": {
    "collapsed": false,
    "pycharm": {
     "name": "#%%\n"
    }
   }
  },
  {
   "cell_type": "code",
   "execution_count": 28,
   "outputs": [
    {
     "name": "stdout",
     "output_type": "stream",
     "text": [
      "python is amazing\n",
      "PYTHON IS AMAZING\n"
     ]
    }
   ],
   "source": [
    "# 문자열 처리 함수\n",
    "\n",
    "python = 'Python is Amazing'\n",
    "print(python.lower()) # 문자를 소문자로 변환\n",
    "print(python.upper())\n",
    "print(python[0].isupper()) # 0번째 문자가 대문자이면 True 반환\n",
    "print(len(python)) # 문자 길이 변환\n",
    "print(python.replace('Python', 'java')) # 치환\n",
    "\n",
    "n = python.index('t')\n",
    "print(n) # t 문자가 처음으로 나오는 인덱스 반환\n",
    "\n",
    "print(python.find('Amazing'))\n",
    "print(python.find('is'))\n",
    "print(python.find('Python'))\n",
    "print(python.find('th'))\n",
    "\n",
    "print(python.count('n'))"
   ],
   "metadata": {
    "collapsed": false,
    "pycharm": {
     "name": "#%%\n"
    }
   }
  },
  {
   "cell_type": "code",
   "execution_count": null,
   "outputs": [],
   "source": [
    "print('나는 {}살 입니다.'.format(20))\n",
    "print('나는 {}색과 {}색을 좋아합니다.'.format('파랑', '빨강'))\n",
    "print('나는 {0}색과 {1}색을 좋아합니다.'.format('파랑', '빨강'))\n",
    "print('나는 {1}색과 {0}색을 좋아합니다.'.format('파랑', '빨강'))\n",
    "\n",
    "print('나는 {age}색과 {color}색을 좋아합니다.'.format(age=20, color='파랑'))\n",
    "\n",
    "age = 20\n",
    "color = '빨강'\n",
    "print(f'나는 {age} {color} 이다\\n')"
   ],
   "metadata": {
    "collapsed": false,
    "pycharm": {
     "name": "#%%\n"
    }
   }
  },
  {
   "cell_type": "markdown",
   "source": [
    "## 퀴즈"
   ],
   "metadata": {
    "collapsed": false
   }
  },
  {
   "cell_type": "code",
   "execution_count": 34,
   "outputs": [
    {
     "name": "stdout",
     "output_type": "stream",
     "text": [
      "http://naver.com의 비밀번호는 nav51!입니다.\n"
     ]
    }
   ],
   "source": [
    "url = 'http://naver.com'\n",
    "\n",
    "# 규칙 1\n",
    "rule1 = url.replace('http://', '')\n",
    "\n",
    "# 규칙 2\n",
    "rule2 = rule1[:rule1.find('.')]\n",
    "\n",
    "# 규칙 3\n",
    "rule3 = rule2[:3] + str(len(rule2)) + str(rule2.count('e')) + '!'\n",
    "\n",
    "# 출력\n",
    "print('{}의 비밀번호는 {}입니다.'.format(url, rule3))"
   ],
   "metadata": {
    "collapsed": false,
    "pycharm": {
     "name": "#%%\n"
    }
   }
  }
 ],
 "metadata": {
  "kernelspec": {
   "display_name": "Python 3",
   "language": "python",
   "name": "python3"
  },
  "language_info": {
   "codemirror_mode": {
    "name": "ipython",
    "version": 2
   },
   "file_extension": ".py",
   "mimetype": "text/x-python",
   "name": "python",
   "nbconvert_exporter": "python",
   "pygments_lexer": "ipython2",
   "version": "2.7.6"
  }
 },
 "nbformat": 4,
 "nbformat_minor": 0
}