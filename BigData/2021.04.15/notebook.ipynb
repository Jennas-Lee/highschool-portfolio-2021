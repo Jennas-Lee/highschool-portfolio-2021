{
  "nbformat": 4,
  "nbformat_minor": 0,
  "metadata": {
    "colab": {
      "name": "파이썬0415.ipynb",
      "provenance": [],
      "collapsed_sections": [],
      "authorship_tag": "ABX9TyOGPodOp4evDfp/ptKQaSeh"
    },
    "kernelspec": {
      "name": "python3",
      "display_name": "Python 3"
    },
    "language_info": {
      "name": "python"
    }
  },
  "cells": [
    {
      "cell_type": "markdown",
      "metadata": {
        "id": "HYDMYkFpwmpu"
      },
      "source": [
        "# 2021-04-15\n",
        "\n",
        "[참고](https://colab.research.google.com/notebooks/io.ipynb)"
      ]
    },
    {
      "cell_type": "code",
      "metadata": {
        "colab": {
          "base_uri": "https://localhost:8080/"
        },
        "id": "23cSSZltwjtg",
        "outputId": "b4caf1b5-8910-4f38-fe82-4e9cc8583e90"
      },
      "source": [
        "from google.colab import drive\n",
        "\n",
        "drive.mount('/content/drive')"
      ],
      "execution_count": 3,
      "outputs": [
        {
          "output_type": "stream",
          "text": [
            "Drive already mounted at /content/drive; to attempt to forcibly remount, call drive.mount(\"/content/drive\", force_remount=True).\n"
          ],
          "name": "stdout"
        }
      ]
    },
    {
      "cell_type": "code",
      "metadata": {
        "id": "buWgIAwY1MYU"
      },
      "source": [
        "import csv\n",
        "\n",
        "f = open('/content/drive/My Drive/data/seoul.csv', 'r', encoding='cp949')\n",
        "\n",
        "# cp949 : 윈도우가 아닐 경우\n",
        "# 현재 컴퓨터는 윈도우지만, colab 서버는 윈도우가 아님\n",
        "# colab 사용시 항상 입력 요망\n",
        "\n",
        "data = csv.reader(f, delimiter=',')\n",
        "\n",
        "for row in data:\n",
        "    print(row)\n",
        "\n",
        "f.close()"
      ],
      "execution_count": null,
      "outputs": []
    },
    {
      "cell_type": "code",
      "metadata": {
        "colab": {
          "base_uri": "https://localhost:8080/",
          "height": 301
        },
        "id": "BghqrX4830lu",
        "outputId": "49c27695-76f7-4b72-c83b-cd365b39383d"
      },
      "source": [
        "# 헤더 저장하기\n",
        "# 헤더 : 각 열의 의미, 제목, title\n",
        "\n",
        "import matplotlib.pyplot as plt\n",
        "import csv\n",
        "\n",
        "f = open('/content/drive/My Drive/data/seoul.csv', 'r', encoding='cp949')\n",
        "\n",
        "data = csv.reader(f, delimiter=',')\n",
        "header = next(data)\n",
        "\n",
        "tem_list = []\n",
        "\n",
        "tem = -100 # 최고기온 값\n",
        "date = ''  # 최고기온 날짜\n",
        "\n",
        "print(header)\n",
        "for row in data:\n",
        "    if row[-1] == '':\n",
        "        row[-1] = -100\n",
        "    row[-1] = float(row[-1])\n",
        "\n",
        "    tem_list.append(row[-1])\n",
        "    if tem < row[-1]:\n",
        "        tem = row[-1]\n",
        "        date = row[0]\n",
        "    # print(row)\n",
        "\n",
        "f.close()\n",
        "\n",
        "print(\"서울의 최고 기온이 가장 높았던 날은 {}이고, 그때의 온도는 {}이다.\".format(date, tem))\n",
        "plt.plot(tem_list, 'r')\n",
        "plt.show()"
      ],
      "execution_count": 16,
      "outputs": [
        {
          "output_type": "stream",
          "text": [
            "['날짜', '지점', '평균기온(℃)', '최저기온(℃)', '최고기온(℃)']\n",
            "서울의 최고 기온이 가장 높았던 날은 2018-08-01이고, 그때의 온도는 39.6이다.\n"
          ],
          "name": "stdout"
        },
        {
          "output_type": "display_data",
          "data": {
            "image/png": "[encoded data removed]",
            "text/plain": [
              "<Figure size 432x288 with 1 Axes>"
            ]
          },
          "metadata": {
            "tags": [],
            "needs_background": "light"
          }
        }
      ]
    }
  ]
}