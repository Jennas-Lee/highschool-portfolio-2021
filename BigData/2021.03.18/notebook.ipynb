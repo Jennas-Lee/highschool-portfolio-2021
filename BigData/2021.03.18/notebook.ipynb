{
 "cells": [
  {
   "cell_type": "markdown",
   "source": [
    "# 2021-03-18"
   ],
   "metadata": {
    "collapsed": false
   }
  },
  {
   "cell_type": "code",
   "execution_count": 2,
   "outputs": [
    {
     "name": "stdout",
     "output_type": "stream",
     "text": [
      "길동이, 커피가 준비 되었습니다. 5번 남았어요.\n",
      "길동이, 커피가 준비 되었습니다. 4번 남았어요.\n",
      "길동이, 커피가 준비 되었습니다. 3번 남았어요.\n",
      "길동이, 커피가 준비 되었습니다. 2번 남았어요.\n",
      "길동이, 커피가 준비 되었습니다. 1번 남았어요.\n",
      "커피가 폐기 처분 되었네요\n"
     ]
    }
   ],
   "source": [
    "# while 문\n",
    "\n",
    "customer = '길동이'\n",
    "index = 5\n",
    "\n",
    "while index >= 1:\n",
    "    print('{0}, 커피가 준비 되었습니다. {1}번 남았어요.'.format(customer, index))\n",
    "    index -= 1\n",
    "    if index == 0:\n",
    "        print('커피가 폐기 처분 되었네요')"
   ],
   "metadata": {
    "collapsed": false,
    "pycharm": {
     "name": "#%%\n"
    }
   }
  },
  {
   "cell_type": "code",
   "execution_count": 4,
   "outputs": [
    {
     "name": "stdout",
     "output_type": "stream",
     "text": [
      "길동이, 커피가 준비 됐습니다.\n",
      "길동이, 커피가 준비 됐습니다.\n",
      "길동이, 커피가 준비 됐습니다.\n",
      "길동이, 커피가 준비 됐습니다.\n"
     ]
    }
   ],
   "source": [
    "person = '몰라요'\n",
    "\n",
    "while person != customer:\n",
    "    print('{}, 커피가 준비 됐습니다.'.format(customer))\n",
    "    person = input('이름이???')"
   ],
   "metadata": {
    "collapsed": false,
    "pycharm": {
     "name": "#%%\n"
    }
   }
  },
  {
   "cell_type": "code",
   "execution_count": 6,
   "outputs": [
    {
     "name": "stdout",
     "output_type": "stream",
     "text": [
      "1, 조용히 자습해라.\n",
      "3, 조용히 자습해라.\n",
      "4, 조용히 자습해라.\n",
      "6, 조용히 자습해라.\n",
      "오늘 수업 여기까지. 7는 교무실로 따라와.\n"
     ]
    }
   ],
   "source": [
    "# continue, break\n",
    "\n",
    "absent = [2, 5]\n",
    "no_book = [7]\n",
    "\n",
    "for student in range(1, 11):\n",
    "    if student in absent:\n",
    "        continue\n",
    "    elif student in no_book:\n",
    "        print('오늘 수업 여기까지. {}는 교무실로 따라와.'.format(student))\n",
    "        break\n",
    "    print('{}, 조용히 자습해라.'.format(student))"
   ],
   "metadata": {
    "collapsed": false,
    "pycharm": {
     "name": "#%%\n"
    }
   }
  },
  {
   "cell_type": "code",
   "execution_count": 9,
   "outputs": [
    {
     "name": "stdout",
     "output_type": "stream",
     "text": [
      "[1, 2, 3, 4]\n",
      "[101, 102, 103, 104]\n"
     ]
    }
   ],
   "source": [
    "# 출석번호가 1 2 3 4, 앞에 100을 더한 값으로 만들기 101, 102, 103, 104\n",
    "\n",
    "student = [1, 2, 3, 4]\n",
    "print(student)\n",
    "\n",
    "# for student in students:\n",
    "#     print(int(student + 100))\n",
    "\n",
    "# 한 줄 for문\n",
    "students = [i + 100 for i in student]\n",
    "print(students)"
   ],
   "metadata": {
    "collapsed": false,
    "pycharm": {
     "name": "#%%\n"
    }
   }
  }
 ],
 "metadata": {
  "kernelspec": {
   "display_name": "Python 3",
   "language": "python",
   "name": "python3"
  },
  "language_info": {
   "codemirror_mode": {
    "name": "ipython",
    "version": 2
   },
   "file_extension": ".py",
   "mimetype": "text/x-python",
   "name": "python",
   "nbconvert_exporter": "python",
   "pygments_lexer": "ipython2",
   "version": "2.7.6"
  }
 },
 "nbformat": 4,
 "nbformat_minor": 0
}