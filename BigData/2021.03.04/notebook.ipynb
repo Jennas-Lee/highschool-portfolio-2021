{
 "cells": [
  {
   "cell_type": "markdown",
   "source": [
    "# 2021-03-04"
   ],
   "metadata": {
    "collapsed": false
   }
  },
  {
   "cell_type": "markdown",
   "source": [
    "**세명컴퓨터** *고등학교*\n",
    "# 인공지능 소프트웨어과"
   ],
   "metadata": {
    "collapsed": false,
    "pycharm": {
     "name": "#%% md\n"
    }
   }
  },
  {
   "cell_type": "code",
   "source": [
    "print('Hello')\n",
    "print('세명컴퓨터 고등학교')\n",
    "print(\"세명컴퓨터 고등학교\")"
   ],
   "metadata": {
    "collapsed": false,
    "pycharm": {
     "name": "#%%\n"
    }
   },
   "execution_count": 12,
   "outputs": [
    {
     "name": "stdout",
     "output_type": "stream",
     "text": [
      "Hello\n",
      "세명컴퓨터 고등학교\n",
      "세명컴퓨터 고등학교\n"
     ]
    }
   ]
  },
  {
   "cell_type": "code",
   "execution_count": 15,
   "outputs": [
    {
     "name": "stdout",
     "output_type": "stream",
     "text": [
      "----------------\n",
      "--------------------\n",
      "ㅋㅋㅋㅋㅋㅋㅋㅋㅋㅋㅋㅋㅋㅋㅋㅋㅋㅋㅋㅋㅋㅋㅋㅋㅋㅋㅋㅋㅋㅋ\n",
      "aaaaaaaaaaaaa\n",
      "25\n",
      "55555\n"
     ]
    }
   ],
   "source": [
    "print('----------------')\n",
    "print(20 * '-')\n",
    "print(30 * 'ㅋ')\n",
    "print(13 * 'a')\n",
    "print(5 * 5)\n",
    "print(5 * '5')"
   ],
   "metadata": {
    "collapsed": false,
    "pycharm": {
     "name": "#%%\n"
    }
   }
  },
  {
   "cell_type": "code",
   "execution_count": 21,
   "outputs": [
    {
     "name": "stdout",
     "output_type": "stream",
     "text": [
      "15\n",
      "-20\n",
      "3.14\n",
      "8\n",
      "18\n"
     ]
    }
   ],
   "source": [
    "print(15)\n",
    "print(-20)\n",
    "print(3.14)\n",
    "print(3 + 5)\n",
    "print(3 * (4 + 2))"
   ],
   "metadata": {
    "collapsed": false,
    "pycharm": {
     "name": "#%%\n"
    }
   }
  },
  {
   "cell_type": "code",
   "execution_count": 28,
   "outputs": [
    {
     "name": "stdout",
     "output_type": "stream",
     "text": [
      "2.0\n",
      "8\n",
      "1\n",
      "1\n",
      "1\n",
      "3\n"
     ]
    }
   ],
   "source": [
    "print(6/3)\n",
    "print(2 ** 3)\n",
    "print(5 % 2)\n",
    "print(10 % 3)\n",
    "print(5 // 3)\n",
    "print(10 // 3)"
   ],
   "metadata": {
    "collapsed": false,
    "pycharm": {
     "name": "#%%\n"
    }
   }
  },
  {
   "cell_type": "code",
   "execution_count": 36,
   "outputs": [
    {
     "name": "stdout",
     "output_type": "stream",
     "text": [
      "True\n",
      "False\n",
      "True\n",
      "True\n",
      "True\n",
      "False\n",
      "True\n"
     ]
    }
   ],
   "source": [
    "print(10 > 8)\n",
    "print(20 > 30)\n",
    "print(True)\n",
    "print(not(5 > 10))\n",
    "print(1 != 3)\n",
    "print((3 > 0) and (3 > 5))\n",
    "print((3 > 0) or (3 > 5))\n",
    "\n",
    "# 주석처리\n",
    "# % : 나머지 연산\n",
    "# // : 나눗셈 중 몫만 구함"
   ],
   "metadata": {
    "collapsed": false,
    "pycharm": {
     "name": "#%%\n"
    }
   }
  }
 ],
 "metadata": {
  "kernelspec": {
   "display_name": "Python 3",
   "language": "python",
   "name": "python3"
  },
  "language_info": {
   "codemirror_mode": {
    "name": "ipython",
    "version": 2
   },
   "file_extension": ".py",
   "mimetype": "text/x-python",
   "name": "python",
   "nbconvert_exporter": "python",
   "pygments_lexer": "ipython2",
   "version": "2.7.6"
  }
 },
 "nbformat": 4,
 "nbformat_minor": 0
}