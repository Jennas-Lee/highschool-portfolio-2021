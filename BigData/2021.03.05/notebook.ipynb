{
 "cells": [
  {
   "cell_type": "markdown",
   "source": [
    "2021-03-05\n",
    "\n",
    "변수"
   ],
   "metadata": {
    "collapsed": false,
    "pycharm": {
     "name": "#%% md\n"
    }
   }
  },
  {
   "cell_type": "code",
   "execution_count": 2,
   "outputs": [
    {
     "name": "stdout",
     "output_type": "stream",
     "text": [
      "이승준 19\n",
      "이승준\n",
      "19\n",
      "세명컴퓨터고등학교 :  이승준19\n",
      "세명컴퓨터고등학교 :  이승준 19\n"
     ]
    }
   ],
   "source": [
    "name = '이승준'\n",
    "age = 19\n",
    "\n",
    "print(name, age)\n",
    "print(name)\n",
    "print(age)\n",
    "print(\"세명컴퓨터고등학교 :  \" + name + str(age))\n",
    "print(\"세명컴퓨터고등학교 :  %s %d\" % (name, age))"
   ],
   "metadata": {
    "collapsed": false,
    "pycharm": {
     "name": "#%%\n"
    }
   }
  },
  {
   "cell_type": "code",
   "execution_count": 5,
   "outputs": [
    {
     "data": {
      "text/plain": "'\\n여러\\n줄\\n주석\\n'"
     },
     "execution_count": 5,
     "metadata": {},
     "output_type": "execute_result"
    }
   ],
   "source": [
    "# 한 줄 주석\n",
    "'''\n",
    "여러\n",
    "줄\n",
    "주석\n",
    "'''"
   ],
   "metadata": {
    "collapsed": false,
    "pycharm": {
     "name": "#%%\n"
    }
   }
  },
  {
   "cell_type": "markdown",
   "source": [
    "- 변수명 : `station`\n",
    "- 변수값 : `구파발`\n",
    "- 출력문장 : `구파발행 열차가 들어오고 있습니다.`\n",
    "- 변수값 변경 : `인천`, `안산`"
   ],
   "metadata": {
    "collapsed": false,
    "pycharm": {
     "name": "#%% md\n"
    }
   }
  },
  {
   "cell_type": "code",
   "execution_count": null,
   "outputs": [],
   "source": [
    "station = \"구파발\"\n",
    "print(station + \"행 열차가 들어오고 있습니다.\")\n",
    "station = \"인천\"\n",
    "print(station + \"행 열차가 들어오고 있습니다.\")\n",
    "station = \"안산\"\n",
    "print(station + \"행 열차가 들어오고 있습니다.\")"
   ],
   "metadata": {
    "collapsed": false,
    "pycharm": {
     "name": "#%%\n"
    }
   }
  }
 ],
 "metadata": {
  "kernelspec": {
   "display_name": "Python 3",
   "language": "python",
   "name": "python3"
  },
  "language_info": {
   "codemirror_mode": {
    "name": "ipython",
    "version": 2
   },
   "file_extension": ".py",
   "mimetype": "text/x-python",
   "name": "python",
   "nbconvert_exporter": "python",
   "pygments_lexer": "ipython2",
   "version": "2.7.6"
  }
 },
 "nbformat": 4,
 "nbformat_minor": 0
}