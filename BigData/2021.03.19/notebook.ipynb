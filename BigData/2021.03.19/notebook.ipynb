{
 "cells": [
  {
   "cell_type": "markdown",
   "source": [
    "# 2021-03-19"
   ],
   "metadata": {
    "collapsed": false
   }
  },
  {
   "cell_type": "code",
   "execution_count": null,
   "outputs": [],
   "source": [
    "# 학생 이름을 길이로 변환\n",
    "\n",
    "students = ['아이언맨', '토르', '그루트']\n",
    "students = [len(i) for i in students]\n",
    "print(students)"
   ],
   "metadata": {
    "collapsed": false,
    "pycharm": {
     "name": "#%%\n"
    }
   }
  },
  {
   "cell_type": "markdown",
   "source": [
    "퀴즈) 당신은 kakao 서비스를 이용하는 택시 기사입니다. 50명의 승객과 매칭 기회가 있을 때, 총 탑승 승객 수를 구하는 프로그램을 작성하시오.\n",
    "\n",
    "1. 조건 : 승객별 운행 소요 시간은 5분~50분 사이의 난수로 정해집니다.\n",
    "2. 조건 : 당신은 소요 시간 5분~15분 사이의 승객만 매칭해야 합니다."
   ],
   "metadata": {
    "collapsed": false
   }
  },
  {
   "cell_type": "code",
   "execution_count": 7,
   "outputs": [
    {
     "name": "stdout",
     "output_type": "stream",
     "text": [
      "[O] 1번째 손님(소요시간: 9분)\n",
      "[X] 2번째 손님(소요시간: 22분)\n",
      "[X] 3번째 손님(소요시간: 50분)\n",
      "[X] 4번째 손님(소요시간: 19분)\n",
      "[X] 5번째 손님(소요시간: 36분)\n",
      "[X] 6번째 손님(소요시간: 38분)\n",
      "[X] 7번째 손님(소요시간: 24분)\n",
      "[X] 8번째 손님(소요시간: 31분)\n",
      "[X] 9번째 손님(소요시간: 37분)\n",
      "[X] 10번째 손님(소요시간: 40분)\n",
      "[O] 11번째 손님(소요시간: 9분)\n",
      "[X] 12번째 손님(소요시간: 17분)\n",
      "[X] 13번째 손님(소요시간: 18분)\n",
      "[O] 14번째 손님(소요시간: 15분)\n",
      "[X] 15번째 손님(소요시간: 27분)\n",
      "[X] 16번째 손님(소요시간: 47분)\n",
      "[X] 17번째 손님(소요시간: 44분)\n",
      "[X] 18번째 손님(소요시간: 31분)\n",
      "[X] 19번째 손님(소요시간: 29분)\n",
      "[O] 20번째 손님(소요시간: 9분)\n",
      "[O] 21번째 손님(소요시간: 5분)\n",
      "[X] 22번째 손님(소요시간: 21분)\n",
      "[X] 23번째 손님(소요시간: 28분)\n",
      "[X] 24번째 손님(소요시간: 19분)\n",
      "[X] 25번째 손님(소요시간: 20분)\n",
      "[X] 26번째 손님(소요시간: 20분)\n",
      "[X] 27번째 손님(소요시간: 41분)\n",
      "[O] 28번째 손님(소요시간: 5분)\n",
      "[O] 29번째 손님(소요시간: 13분)\n",
      "[X] 30번째 손님(소요시간: 39분)\n",
      "[X] 31번째 손님(소요시간: 34분)\n",
      "[X] 32번째 손님(소요시간: 48분)\n",
      "[X] 33번째 손님(소요시간: 21분)\n",
      "[O] 34번째 손님(소요시간: 13분)\n",
      "[X] 35번째 손님(소요시간: 41분)\n",
      "[X] 36번째 손님(소요시간: 49분)\n",
      "[O] 37번째 손님(소요시간: 14분)\n",
      "[X] 38번째 손님(소요시간: 37분)\n",
      "[X] 39번째 손님(소요시간: 48분)\n",
      "[X] 40번째 손님(소요시간: 43분)\n",
      "[X] 41번째 손님(소요시간: 21분)\n",
      "[X] 42번째 손님(소요시간: 44분)\n",
      "[X] 43번째 손님(소요시간: 28분)\n",
      "[O] 44번째 손님(소요시간: 15분)\n",
      "[X] 45번째 손님(소요시간: 45분)\n",
      "[X] 46번째 손님(소요시간: 20분)\n",
      "[X] 47번째 손님(소요시간: 27분)\n",
      "[O] 48번째 손님(소요시간: 11분)\n",
      "[X] 49번째 손님(소요시간: 35분)\n",
      "[X] 50번째 손님(소요시간: 20분)\n",
      "총 탑승 승객 : 11분\n"
     ]
    }
   ],
   "source": [
    "from random import *\n",
    "\n",
    "count = 0\n",
    "for i in range(1, 51):\n",
    "    time = sample(range(5, 51), 1)[0]\n",
    "    if time <= 15:\n",
    "        match = \"O\"\n",
    "        count += 1\n",
    "    else:\n",
    "        match = \"X\"\n",
    "    print(\"[{}] {}번째 손님(소요시간: {}분)\".format(match, i, time))\n",
    "\n",
    "print(\"총 탑승 승객 : {}분\".format(count))"
   ],
   "metadata": {
    "collapsed": false,
    "pycharm": {
     "name": "#%%\n"
    }
   }
  }
 ],
 "metadata": {
  "kernelspec": {
   "display_name": "Python 3",
   "language": "python",
   "name": "python3"
  },
  "language_info": {
   "codemirror_mode": {
    "name": "ipython",
    "version": 2
   },
   "file_extension": ".py",
   "mimetype": "text/x-python",
   "name": "python",
   "nbconvert_exporter": "python",
   "pygments_lexer": "ipython2",
   "version": "2.7.6"
  }
 },
 "nbformat": 4,
 "nbformat_minor": 0
}