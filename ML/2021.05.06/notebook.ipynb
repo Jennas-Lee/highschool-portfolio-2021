{
  "nbformat": 4,
  "nbformat_minor": 0,
  "metadata": {
    "colab": {
      "name": "30619-20210506.ipynb",
      "provenance": [],
      "collapsed_sections": [],
      "authorship_tag": "ABX9TyP1bhiFnZYhP5M+1HiNv5mL"
    },
    "kernelspec": {
      "name": "python3",
      "display_name": "Python 3"
    },
    "language_info": {
      "name": "python"
    }
  },
  "cells": [
    {
      "cell_type": "code",
      "metadata": {
        "colab": {
          "base_uri": "https://localhost:8080/"
        },
        "id": "rriNoBwj-72A",
        "outputId": "5c9e9535-cf6f-405e-d3fb-348d120567eb"
      },
      "source": [
        "! pip install mglearn\n",
        "import numpy as np\n",
        "import pandas as pd\n",
        "from IPython.display import display\n",
        "import matplotlib.pyplot as plt\n",
        "import mglearn"
      ],
      "execution_count": 1,
      "outputs": [
        {
          "output_type": "stream",
          "text": [
            "Collecting mglearn\n",
            "\u001b[?25l  Downloading https://files.pythonhosted.org/packages/65/38/8aced26fce0b2ae82c3c87cd3b6105f38ca6d9d51704ecc44aa54473e6b9/mglearn-0.1.9.tar.gz (540kB)\n",
            "\r\u001b[K     |▋                               | 10kB 18.4MB/s eta 0:00:01\r\u001b[K     |█▏                              | 20kB 10.6MB/s eta 0:00:01\r\u001b[K     |█▉                              | 30kB 14.5MB/s eta 0:00:01\r\u001b[K     |██▍                             | 40kB 14.4MB/s eta 0:00:01\r\u001b[K     |███                             | 51kB 15.3MB/s eta 0:00:01\r\u001b[K     |███▋                            | 61kB 12.3MB/s eta 0:00:01\r\u001b[K     |████▎                           | 71kB 11.5MB/s eta 0:00:01\r\u001b[K     |████▉                           | 81kB 12.3MB/s eta 0:00:01\r\u001b[K     |█████▌                          | 92kB 10.2MB/s eta 0:00:01\r\u001b[K     |██████                          | 102kB 10.8MB/s eta 0:00:01\r\u001b[K     |██████▊                         | 112kB 10.8MB/s eta 0:00:01\r\u001b[K     |███████▎                        | 122kB 10.8MB/s eta 0:00:01\r\u001b[K     |███████▉                        | 133kB 10.8MB/s eta 0:00:01\r\u001b[K     |████████▌                       | 143kB 10.8MB/s eta 0:00:01\r\u001b[K     |█████████                       | 153kB 10.8MB/s eta 0:00:01\r\u001b[K     |█████████▊                      | 163kB 10.8MB/s eta 0:00:01\r\u001b[K     |██████████▎                     | 174kB 10.8MB/s eta 0:00:01\r\u001b[K     |███████████                     | 184kB 10.8MB/s eta 0:00:01\r\u001b[K     |███████████▌                    | 194kB 10.8MB/s eta 0:00:01\r\u001b[K     |████████████▏                   | 204kB 10.8MB/s eta 0:00:01\r\u001b[K     |████████████▊                   | 215kB 10.8MB/s eta 0:00:01\r\u001b[K     |█████████████▍                  | 225kB 10.8MB/s eta 0:00:01\r\u001b[K     |██████████████                  | 235kB 10.8MB/s eta 0:00:01\r\u001b[K     |██████████████▋                 | 245kB 10.8MB/s eta 0:00:01\r\u001b[K     |███████████████▏                | 256kB 10.8MB/s eta 0:00:01\r\u001b[K     |███████████████▊                | 266kB 10.8MB/s eta 0:00:01\r\u001b[K     |████████████████▍               | 276kB 10.8MB/s eta 0:00:01\r\u001b[K     |█████████████████               | 286kB 10.8MB/s eta 0:00:01\r\u001b[K     |█████████████████▋              | 296kB 10.8MB/s eta 0:00:01\r\u001b[K     |██████████████████▏             | 307kB 10.8MB/s eta 0:00:01\r\u001b[K     |██████████████████▉             | 317kB 10.8MB/s eta 0:00:01\r\u001b[K     |███████████████████▍            | 327kB 10.8MB/s eta 0:00:01\r\u001b[K     |████████████████████            | 337kB 10.8MB/s eta 0:00:01\r\u001b[K     |████████████████████▋           | 348kB 10.8MB/s eta 0:00:01\r\u001b[K     |█████████████████████▎          | 358kB 10.8MB/s eta 0:00:01\r\u001b[K     |█████████████████████▉          | 368kB 10.8MB/s eta 0:00:01\r\u001b[K     |██████████████████████▌         | 378kB 10.8MB/s eta 0:00:01\r\u001b[K     |███████████████████████         | 389kB 10.8MB/s eta 0:00:01\r\u001b[K     |███████████████████████▋        | 399kB 10.8MB/s eta 0:00:01\r\u001b[K     |████████████████████████▎       | 409kB 10.8MB/s eta 0:00:01\r\u001b[K     |████████████████████████▉       | 419kB 10.8MB/s eta 0:00:01\r\u001b[K     |█████████████████████████▌      | 430kB 10.8MB/s eta 0:00:01\r\u001b[K     |██████████████████████████      | 440kB 10.8MB/s eta 0:00:01\r\u001b[K     |██████████████████████████▊     | 450kB 10.8MB/s eta 0:00:01\r\u001b[K     |███████████████████████████▎    | 460kB 10.8MB/s eta 0:00:01\r\u001b[K     |████████████████████████████    | 471kB 10.8MB/s eta 0:00:01\r\u001b[K     |████████████████████████████▌   | 481kB 10.8MB/s eta 0:00:01\r\u001b[K     |█████████████████████████████▏  | 491kB 10.8MB/s eta 0:00:01\r\u001b[K     |█████████████████████████████▊  | 501kB 10.8MB/s eta 0:00:01\r\u001b[K     |██████████████████████████████▍ | 512kB 10.8MB/s eta 0:00:01\r\u001b[K     |███████████████████████████████ | 522kB 10.8MB/s eta 0:00:01\r\u001b[K     |███████████████████████████████▌| 532kB 10.8MB/s eta 0:00:01\r\u001b[K     |████████████████████████████████| 542kB 10.8MB/s \n",
            "\u001b[?25hRequirement already satisfied: numpy in /usr/local/lib/python3.7/dist-packages (from mglearn) (1.19.5)\n",
            "Requirement already satisfied: matplotlib in /usr/local/lib/python3.7/dist-packages (from mglearn) (3.2.2)\n",
            "Requirement already satisfied: scikit-learn in /usr/local/lib/python3.7/dist-packages (from mglearn) (0.22.2.post1)\n",
            "Requirement already satisfied: pandas in /usr/local/lib/python3.7/dist-packages (from mglearn) (1.1.5)\n",
            "Requirement already satisfied: pillow in /usr/local/lib/python3.7/dist-packages (from mglearn) (7.1.2)\n",
            "Requirement already satisfied: cycler in /usr/local/lib/python3.7/dist-packages (from mglearn) (0.10.0)\n",
            "Requirement already satisfied: imageio in /usr/local/lib/python3.7/dist-packages (from mglearn) (2.4.1)\n",
            "Requirement already satisfied: joblib in /usr/local/lib/python3.7/dist-packages (from mglearn) (1.0.1)\n",
            "Requirement already satisfied: python-dateutil>=2.1 in /usr/local/lib/python3.7/dist-packages (from matplotlib->mglearn) (2.8.1)\n",
            "Requirement already satisfied: pyparsing!=2.0.4,!=2.1.2,!=2.1.6,>=2.0.1 in /usr/local/lib/python3.7/dist-packages (from matplotlib->mglearn) (2.4.7)\n",
            "Requirement already satisfied: kiwisolver>=1.0.1 in /usr/local/lib/python3.7/dist-packages (from matplotlib->mglearn) (1.3.1)\n",
            "Requirement already satisfied: scipy>=0.17.0 in /usr/local/lib/python3.7/dist-packages (from scikit-learn->mglearn) (1.4.1)\n",
            "Requirement already satisfied: pytz>=2017.2 in /usr/local/lib/python3.7/dist-packages (from pandas->mglearn) (2018.9)\n",
            "Requirement already satisfied: six in /usr/local/lib/python3.7/dist-packages (from cycler->mglearn) (1.15.0)\n",
            "Building wheels for collected packages: mglearn\n",
            "  Building wheel for mglearn (setup.py) ... \u001b[?25l\u001b[?25hdone\n",
            "  Created wheel for mglearn: filename=mglearn-0.1.9-py2.py3-none-any.whl size=582638 sha256=8bda3017f2169547e53dd5710734941437865c8c62ab0ce71d8e4b84a19d6e24\n",
            "  Stored in directory: /root/.cache/pip/wheels/eb/a6/ea/a6a3716233fa62fc561259b5cb1e28f79e9ff3592c0adac5f0\n",
            "Successfully built mglearn\n",
            "Installing collected packages: mglearn\n",
            "Successfully installed mglearn-0.1.9\n"
          ],
          "name": "stdout"
        }
      ]
    },
    {
      "cell_type": "code",
      "metadata": {
        "colab": {
          "base_uri": "https://localhost:8080/",
          "height": 298
        },
        "id": "KCYO8NOO_Elt",
        "outputId": "b06deb73-6712-4140-861b-c09d00712b66"
      },
      "source": [
        "# 로지스틱 회귀, SVM library 임포트\n",
        "\n",
        "from sklearn.linear_model import LogisticRegression\n",
        "from sklearn.svm import LinearSVC\n",
        "\n",
        "X, y = mglearn.datasets.make_forge()\n",
        "fig, axes = plt.subplots(1, 2, figsize=(10, 3))\n",
        "\n",
        "for model, ax in zip([LinearSVC(max_iter=5000), LogisticRegression()], axes):\n",
        "    clf = model.fit(X, y)\n",
        "    mglearn.plots.plot_2d_separator(clf, X, fill=False, eps=0.6, ax=ax, alpha=0.7)\n",
        "    mglearn.discrete_scatter(X[:, 0], X[:, 1], y, ax=ax)\n",
        "    ax.set_title(clf.__class__.__name__)\n",
        "    ax.set_xlabel(\"feature 1\")\n",
        "    ax.set_ylabel(\"feature 22\")\n",
        "axes[0].legend()\n",
        "axes[1].legend()"
      ],
      "execution_count": 9,
      "outputs": [
        {
          "output_type": "stream",
          "text": [
            "/usr/local/lib/python3.7/dist-packages/sklearn/utils/deprecation.py:87: FutureWarning: Function make_blobs is deprecated; Please import make_blobs directly from scikit-learn\n",
            "  warnings.warn(msg, category=FutureWarning)\n"
          ],
          "name": "stderr"
        },
        {
          "output_type": "execute_result",
          "data": {
            "text/plain": [
              "<matplotlib.legend.Legend at 0x7f395d220fd0>"
            ]
          },
          "metadata": {
            "tags": []
          },
          "execution_count": 9
        },
        {
          "output_type": "display_data",
          "data": {
            "image/png": "[encoded data removed]",
            "text/plain": [
              "<Figure size 720x216 with 2 Axes>"
            ]
          },
          "metadata": {
            "tags": []
          }
        }
      ]
    },
    {
      "cell_type": "code",
      "metadata": {
        "colab": {
          "base_uri": "https://localhost:8080/"
        },
        "id": "GVgst992MWxh",
        "outputId": "1bc5fc79-e964-4a54-f48d-7785fe0ff172"
      },
      "source": [
        "# Decision Tree Classifier 임포트\n",
        "\n",
        "from sklearn.tree import DecisionTreeClassifier\n",
        "from sklearn.datasets import load_breast_cancer\n",
        "from sklearn.model_selection import train_test_split\n",
        "\n",
        "cancer = load_breast_cancer()\n",
        "# 훈련/테스트 세트 분리\n",
        "X_train, X_test, y_train, y_test = train_test_split(\n",
        "    cancer.data, cancer.target, stratify=cancer.target, random_state=42\n",
        "    )\n",
        "\n",
        "# 학습\n",
        "tree = DecisionTreeClassifier(random_state=0)\n",
        "tree.fit(X_train, y_train)\n",
        "\n",
        "# 결과\n",
        "print(\"train set : {:.3f}\".format(tree.score(X_train, y_train)))\n",
        "print(\"test set : {:.3f}\".format(tree.score(X_test, y_test)))"
      ],
      "execution_count": 17,
      "outputs": [
        {
          "output_type": "stream",
          "text": [
            "train set : 1.000\n",
            "test set : 0.937\n"
          ],
          "name": "stdout"
        }
      ]
    }
  ]
}