{
  "nbformat": 4,
  "nbformat_minor": 0,
  "metadata": {
    "colab": {
      "name": "30619-20210419.ipynb",
      "provenance": [],
      "collapsed_sections": [],
      "authorship_tag": "ABX9TyOZVCl5J+M4+1p2lV9+qB+l"
    },
    "kernelspec": {
      "name": "python3",
      "display_name": "Python 3"
    },
    "language_info": {
      "name": "python"
    }
  },
  "cells": [
    {
      "cell_type": "markdown",
      "metadata": {
        "id": "pFyScrUdyoMh"
      },
      "source": [
        "# 2021-04-19"
      ]
    },
    {
      "cell_type": "code",
      "metadata": {
        "colab": {
          "base_uri": "https://localhost:8080/"
        },
        "id": "tt-dso8dymA-",
        "outputId": "981ff5b9-aefd-40e0-f8ed-31a8346de27d"
      },
      "source": [
        "! pip install mglearn\n",
        "from IPython.display import display\n",
        "import numpy as np\n",
        "import pandas as pd\n",
        "import matplotlib.pyplot as plt\n",
        "import mglearn"
      ],
      "execution_count": 1,
      "outputs": [
        {
          "output_type": "stream",
          "text": [
            "Collecting mglearn\n",
            "\u001b[?25l  Downloading https://files.pythonhosted.org/packages/65/38/8aced26fce0b2ae82c3c87cd3b6105f38ca6d9d51704ecc44aa54473e6b9/mglearn-0.1.9.tar.gz (540kB)\n",
            "\r\u001b[K     |▋                               | 10kB 14.7MB/s eta 0:00:01\r\u001b[K     |█▏                              | 20kB 19.9MB/s eta 0:00:01\r\u001b[K     |█▉                              | 30kB 11.4MB/s eta 0:00:01\r\u001b[K     |██▍                             | 40kB 9.1MB/s eta 0:00:01\r\u001b[K     |███                             | 51kB 4.3MB/s eta 0:00:01\r\u001b[K     |███▋                            | 61kB 4.9MB/s eta 0:00:01\r\u001b[K     |████▎                           | 71kB 4.9MB/s eta 0:00:01\r\u001b[K     |████▉                           | 81kB 5.2MB/s eta 0:00:01\r\u001b[K     |█████▌                          | 92kB 5.6MB/s eta 0:00:01\r\u001b[K     |██████                          | 102kB 5.7MB/s eta 0:00:01\r\u001b[K     |██████▊                         | 112kB 5.7MB/s eta 0:00:01\r\u001b[K     |███████▎                        | 122kB 5.7MB/s eta 0:00:01\r\u001b[K     |███████▉                        | 133kB 5.7MB/s eta 0:00:01\r\u001b[K     |████████▌                       | 143kB 5.7MB/s eta 0:00:01\r\u001b[K     |█████████                       | 153kB 5.7MB/s eta 0:00:01\r\u001b[K     |█████████▊                      | 163kB 5.7MB/s eta 0:00:01\r\u001b[K     |██████████▎                     | 174kB 5.7MB/s eta 0:00:01\r\u001b[K     |███████████                     | 184kB 5.7MB/s eta 0:00:01\r\u001b[K     |███████████▌                    | 194kB 5.7MB/s eta 0:00:01\r\u001b[K     |████████████▏                   | 204kB 5.7MB/s eta 0:00:01\r\u001b[K     |████████████▊                   | 215kB 5.7MB/s eta 0:00:01\r\u001b[K     |█████████████▍                  | 225kB 5.7MB/s eta 0:00:01\r\u001b[K     |██████████████                  | 235kB 5.7MB/s eta 0:00:01\r\u001b[K     |██████████████▋                 | 245kB 5.7MB/s eta 0:00:01\r\u001b[K     |███████████████▏                | 256kB 5.7MB/s eta 0:00:01\r\u001b[K     |███████████████▊                | 266kB 5.7MB/s eta 0:00:01\r\u001b[K     |████████████████▍               | 276kB 5.7MB/s eta 0:00:01\r\u001b[K     |█████████████████               | 286kB 5.7MB/s eta 0:00:01\r\u001b[K     |█████████████████▋              | 296kB 5.7MB/s eta 0:00:01\r\u001b[K     |██████████████████▏             | 307kB 5.7MB/s eta 0:00:01\r\u001b[K     |██████████████████▉             | 317kB 5.7MB/s eta 0:00:01\r\u001b[K     |███████████████████▍            | 327kB 5.7MB/s eta 0:00:01\r\u001b[K     |████████████████████            | 337kB 5.7MB/s eta 0:00:01\r\u001b[K     |████████████████████▋           | 348kB 5.7MB/s eta 0:00:01\r\u001b[K     |█████████████████████▎          | 358kB 5.7MB/s eta 0:00:01\r\u001b[K     |█████████████████████▉          | 368kB 5.7MB/s eta 0:00:01\r\u001b[K     |██████████████████████▌         | 378kB 5.7MB/s eta 0:00:01\r\u001b[K     |███████████████████████         | 389kB 5.7MB/s eta 0:00:01\r\u001b[K     |███████████████████████▋        | 399kB 5.7MB/s eta 0:00:01\r\u001b[K     |████████████████████████▎       | 409kB 5.7MB/s eta 0:00:01\r\u001b[K     |████████████████████████▉       | 419kB 5.7MB/s eta 0:00:01\r\u001b[K     |█████████████████████████▌      | 430kB 5.7MB/s eta 0:00:01\r\u001b[K     |██████████████████████████      | 440kB 5.7MB/s eta 0:00:01\r\u001b[K     |██████████████████████████▊     | 450kB 5.7MB/s eta 0:00:01\r\u001b[K     |███████████████████████████▎    | 460kB 5.7MB/s eta 0:00:01\r\u001b[K     |████████████████████████████    | 471kB 5.7MB/s eta 0:00:01\r\u001b[K     |████████████████████████████▌   | 481kB 5.7MB/s eta 0:00:01\r\u001b[K     |█████████████████████████████▏  | 491kB 5.7MB/s eta 0:00:01\r\u001b[K     |█████████████████████████████▊  | 501kB 5.7MB/s eta 0:00:01\r\u001b[K     |██████████████████████████████▍ | 512kB 5.7MB/s eta 0:00:01\r\u001b[K     |███████████████████████████████ | 522kB 5.7MB/s eta 0:00:01\r\u001b[K     |███████████████████████████████▌| 532kB 5.7MB/s eta 0:00:01\r\u001b[K     |████████████████████████████████| 542kB 5.7MB/s \n",
            "\u001b[?25hRequirement already satisfied: numpy in /usr/local/lib/python3.7/dist-packages (from mglearn) (1.19.5)\n",
            "Requirement already satisfied: matplotlib in /usr/local/lib/python3.7/dist-packages (from mglearn) (3.2.2)\n",
            "Requirement already satisfied: scikit-learn in /usr/local/lib/python3.7/dist-packages (from mglearn) (0.22.2.post1)\n",
            "Requirement already satisfied: pandas in /usr/local/lib/python3.7/dist-packages (from mglearn) (1.1.5)\n",
            "Requirement already satisfied: pillow in /usr/local/lib/python3.7/dist-packages (from mglearn) (7.1.2)\n",
            "Requirement already satisfied: cycler in /usr/local/lib/python3.7/dist-packages (from mglearn) (0.10.0)\n",
            "Requirement already satisfied: imageio in /usr/local/lib/python3.7/dist-packages (from mglearn) (2.4.1)\n",
            "Requirement already satisfied: joblib in /usr/local/lib/python3.7/dist-packages (from mglearn) (1.0.1)\n",
            "Requirement already satisfied: kiwisolver>=1.0.1 in /usr/local/lib/python3.7/dist-packages (from matplotlib->mglearn) (1.3.1)\n",
            "Requirement already satisfied: pyparsing!=2.0.4,!=2.1.2,!=2.1.6,>=2.0.1 in /usr/local/lib/python3.7/dist-packages (from matplotlib->mglearn) (2.4.7)\n",
            "Requirement already satisfied: python-dateutil>=2.1 in /usr/local/lib/python3.7/dist-packages (from matplotlib->mglearn) (2.8.1)\n",
            "Requirement already satisfied: scipy>=0.17.0 in /usr/local/lib/python3.7/dist-packages (from scikit-learn->mglearn) (1.4.1)\n",
            "Requirement already satisfied: pytz>=2017.2 in /usr/local/lib/python3.7/dist-packages (from pandas->mglearn) (2018.9)\n",
            "Requirement already satisfied: six in /usr/local/lib/python3.7/dist-packages (from cycler->mglearn) (1.15.0)\n",
            "Building wheels for collected packages: mglearn\n",
            "  Building wheel for mglearn (setup.py) ... \u001b[?25l\u001b[?25hdone\n",
            "  Created wheel for mglearn: filename=mglearn-0.1.9-py2.py3-none-any.whl size=582638 sha256=2e7ff0a2c2f7c4e768de6053a1a5c8bc47c839ae05a39ea287ba367badb6beea\n",
            "  Stored in directory: /root/.cache/pip/wheels/eb/a6/ea/a6a3716233fa62fc561259b5cb1e28f79e9ff3592c0adac5f0\n",
            "Successfully built mglearn\n",
            "Installing collected packages: mglearn\n",
            "Successfully installed mglearn-0.1.9\n"
          ],
          "name": "stdout"
        }
      ]
    },
    {
      "cell_type": "code",
      "metadata": {
        "colab": {
          "base_uri": "https://localhost:8080/"
        },
        "id": "e5YqqcFry3rT",
        "outputId": "adbf57f1-b871-4f58-a468-c744c38962b2"
      },
      "source": [
        "from sklearn.linear_model import Ridge\n",
        "from sklearn.model_selection import train_test_split\n",
        "\n",
        "X, y = mglearn.datasets.load_extended_boston()\n",
        "X_train, X_test, y_train, y_test = train_test_split(X, y, random_state=0)\n",
        "\n",
        "ridge = Ridge().fit(X_train, y_train)\n",
        "print(\"traing set score : {:.3f}\".format(ridge.score(X_train, y_train)))\n",
        "print(\"test set score : {:.3f}\".format(ridge.score(X_test, y_test)))"
      ],
      "execution_count": 5,
      "outputs": [
        {
          "output_type": "stream",
          "text": [
            "traing set score : 0.886\n",
            "test set score : 0.753\n"
          ],
          "name": "stdout"
        }
      ]
    },
    {
      "cell_type": "code",
      "metadata": {
        "colab": {
          "base_uri": "https://localhost:8080/"
        },
        "id": "kcSzgTXL3Dvy",
        "outputId": "7c01645d-a92f-4220-d4cd-f2a0c4904f5f"
      },
      "source": [
        "ridge = Ridge(alpha=0.1).fit(X_train, y_train)\n",
        "print(\"traing set score : {:.3f}\".format(ridge.score(X_train, y_train)))\n",
        "print(\"test set score : {:.3f}\".format(ridge.score(X_test, y_test)))"
      ],
      "execution_count": 18,
      "outputs": [
        {
          "output_type": "stream",
          "text": [
            "traing set score : 0.928\n",
            "test set score : 0.772\n"
          ],
          "name": "stdout"
        }
      ]
    },
    {
      "cell_type": "code",
      "metadata": {
        "colab": {
          "base_uri": "https://localhost:8080/"
        },
        "id": "uOOSLaLk-UNb",
        "outputId": "0f78daee-20cc-4359-8f83-374cd4d92240"
      },
      "source": [
        "! pip install mglearn\n",
        "import numpy as np\n",
        "import pandas as pd\n",
        "from IPython.display import display\n",
        "import matplotlib.pyplot as plt\n",
        "import mglearn"
      ],
      "execution_count": 19,
      "outputs": [
        {
          "output_type": "stream",
          "text": [
            "Requirement already satisfied: mglearn in /usr/local/lib/python3.7/dist-packages (0.1.9)\n",
            "Requirement already satisfied: cycler in /usr/local/lib/python3.7/dist-packages (from mglearn) (0.10.0)\n",
            "Requirement already satisfied: joblib in /usr/local/lib/python3.7/dist-packages (from mglearn) (1.0.1)\n",
            "Requirement already satisfied: scikit-learn in /usr/local/lib/python3.7/dist-packages (from mglearn) (0.22.2.post1)\n",
            "Requirement already satisfied: imageio in /usr/local/lib/python3.7/dist-packages (from mglearn) (2.4.1)\n",
            "Requirement already satisfied: pandas in /usr/local/lib/python3.7/dist-packages (from mglearn) (1.1.5)\n",
            "Requirement already satisfied: numpy in /usr/local/lib/python3.7/dist-packages (from mglearn) (1.19.5)\n",
            "Requirement already satisfied: pillow in /usr/local/lib/python3.7/dist-packages (from mglearn) (7.1.2)\n",
            "Requirement already satisfied: matplotlib in /usr/local/lib/python3.7/dist-packages (from mglearn) (3.2.2)\n",
            "Requirement already satisfied: six in /usr/local/lib/python3.7/dist-packages (from cycler->mglearn) (1.15.0)\n",
            "Requirement already satisfied: scipy>=0.17.0 in /usr/local/lib/python3.7/dist-packages (from scikit-learn->mglearn) (1.4.1)\n",
            "Requirement already satisfied: python-dateutil>=2.7.3 in /usr/local/lib/python3.7/dist-packages (from pandas->mglearn) (2.8.1)\n",
            "Requirement already satisfied: pytz>=2017.2 in /usr/local/lib/python3.7/dist-packages (from pandas->mglearn) (2018.9)\n",
            "Requirement already satisfied: pyparsing!=2.0.4,!=2.1.2,!=2.1.6,>=2.0.1 in /usr/local/lib/python3.7/dist-packages (from matplotlib->mglearn) (2.4.7)\n",
            "Requirement already satisfied: kiwisolver>=1.0.1 in /usr/local/lib/python3.7/dist-packages (from matplotlib->mglearn) (1.3.1)\n"
          ],
          "name": "stdout"
        }
      ]
    },
    {
      "cell_type": "code",
      "metadata": {
        "colab": {
          "base_uri": "https://localhost:8080/",
          "height": 253
        },
        "id": "FORj6tFd-oIK",
        "outputId": "19f209e4-c4f9-4ce1-a5a7-6ed6b7d989a8"
      },
      "source": [
        "# 로지스틱 회귀, SVM library 임포트\n",
        "\n",
        "from sklearn.linear_model import LogisticRegression\n",
        "from sklearn.svm import LinearSVC\n",
        "\n",
        "X, y = mglearn.datasets.make_forge()\n",
        "fig, axes = plt.subplots(1, 2, figsize=(10, 3))\n",
        "\n",
        "for model, ax in zip([LinearSVC(max_iter=5000), LogisticRegression()], axes):\n",
        "    clf = model.fit(X, y)\n",
        "    mglearn.plots.plot_2d_separator(clf, X, fill=False, eps=0.6, ax=ax, alpha=0.7)"
      ],
      "execution_count": 24,
      "outputs": [
        {
          "output_type": "stream",
          "text": [
            "/usr/local/lib/python3.7/dist-packages/sklearn/utils/deprecation.py:87: FutureWarning: Function make_blobs is deprecated; Please import make_blobs directly from scikit-learn\n",
            "  warnings.warn(msg, category=FutureWarning)\n"
          ],
          "name": "stderr"
        },
        {
          "output_type": "display_data",
          "data": {
            "image/png": "[encoded data removed]",
            "text/plain": [
              "<Figure size 720x216 with 2 Axes>"
            ]
          },
          "metadata": {
            "tags": []
          }
        }
      ]
    }
  ]
}