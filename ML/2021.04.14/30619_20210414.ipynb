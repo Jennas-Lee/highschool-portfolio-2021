{
  "nbformat": 4,
  "nbformat_minor": 0,
  "metadata": {
    "colab": {
      "name": "30619-20210414.ipynb",
      "provenance": [],
      "collapsed_sections": [],
      "authorship_tag": "ABX9TyMOgEk2iUvk1uFj4RmFIqd2"
    },
    "kernelspec": {
      "name": "python3",
      "display_name": "Python 3"
    },
    "language_info": {
      "name": "python"
    }
  },
  "cells": [
    {
      "cell_type": "markdown",
      "metadata": {
        "id": "oatVvCDO_VmM"
      },
      "source": [
        "# 2021-04-14"
      ]
    },
    {
      "cell_type": "code",
      "metadata": {
        "colab": {
          "base_uri": "https://localhost:8080/"
        },
        "id": "yz2BplEq_TXT",
        "outputId": "dee3d145-2e1b-43f2-9fd5-4b8bab7e9b4a"
      },
      "source": [
        "! pip install mglearn"
      ],
      "execution_count": 1,
      "outputs": [
        {
          "output_type": "stream",
          "text": [
            "Collecting mglearn\n",
            "\u001b[?25l  Downloading https://files.pythonhosted.org/packages/65/38/8aced26fce0b2ae82c3c87cd3b6105f38ca6d9d51704ecc44aa54473e6b9/mglearn-0.1.9.tar.gz (540kB)\n",
            "\r\u001b[K     |▋                               | 10kB 14.5MB/s eta 0:00:01\r\u001b[K     |█▏                              | 20kB 18.1MB/s eta 0:00:01\r\u001b[K     |█▉                              | 30kB 14.0MB/s eta 0:00:01\r\u001b[K     |██▍                             | 40kB 10.2MB/s eta 0:00:01\r\u001b[K     |███                             | 51kB 8.6MB/s eta 0:00:01\r\u001b[K     |███▋                            | 61kB 8.7MB/s eta 0:00:01\r\u001b[K     |████▎                           | 71kB 9.0MB/s eta 0:00:01\r\u001b[K     |████▉                           | 81kB 8.1MB/s eta 0:00:01\r\u001b[K     |█████▌                          | 92kB 8.0MB/s eta 0:00:01\r\u001b[K     |██████                          | 102kB 8.7MB/s eta 0:00:01\r\u001b[K     |██████▊                         | 112kB 8.7MB/s eta 0:00:01\r\u001b[K     |███████▎                        | 122kB 8.7MB/s eta 0:00:01\r\u001b[K     |███████▉                        | 133kB 8.7MB/s eta 0:00:01\r\u001b[K     |████████▌                       | 143kB 8.7MB/s eta 0:00:01\r\u001b[K     |█████████                       | 153kB 8.7MB/s eta 0:00:01\r\u001b[K     |█████████▊                      | 163kB 8.7MB/s eta 0:00:01\r\u001b[K     |██████████▎                     | 174kB 8.7MB/s eta 0:00:01\r\u001b[K     |███████████                     | 184kB 8.7MB/s eta 0:00:01\r\u001b[K     |███████████▌                    | 194kB 8.7MB/s eta 0:00:01\r\u001b[K     |████████████▏                   | 204kB 8.7MB/s eta 0:00:01\r\u001b[K     |████████████▊                   | 215kB 8.7MB/s eta 0:00:01\r\u001b[K     |█████████████▍                  | 225kB 8.7MB/s eta 0:00:01\r\u001b[K     |██████████████                  | 235kB 8.7MB/s eta 0:00:01\r\u001b[K     |██████████████▋                 | 245kB 8.7MB/s eta 0:00:01\r\u001b[K     |███████████████▏                | 256kB 8.7MB/s eta 0:00:01\r\u001b[K     |███████████████▊                | 266kB 8.7MB/s eta 0:00:01\r\u001b[K     |████████████████▍               | 276kB 8.7MB/s eta 0:00:01\r\u001b[K     |█████████████████               | 286kB 8.7MB/s eta 0:00:01\r\u001b[K     |█████████████████▋              | 296kB 8.7MB/s eta 0:00:01\r\u001b[K     |██████████████████▏             | 307kB 8.7MB/s eta 0:00:01\r\u001b[K     |██████████████████▉             | 317kB 8.7MB/s eta 0:00:01\r\u001b[K     |███████████████████▍            | 327kB 8.7MB/s eta 0:00:01\r\u001b[K     |████████████████████            | 337kB 8.7MB/s eta 0:00:01\r\u001b[K     |████████████████████▋           | 348kB 8.7MB/s eta 0:00:01\r\u001b[K     |█████████████████████▎          | 358kB 8.7MB/s eta 0:00:01\r\u001b[K     |█████████████████████▉          | 368kB 8.7MB/s eta 0:00:01\r\u001b[K     |██████████████████████▌         | 378kB 8.7MB/s eta 0:00:01\r\u001b[K     |███████████████████████         | 389kB 8.7MB/s eta 0:00:01\r\u001b[K     |███████████████████████▋        | 399kB 8.7MB/s eta 0:00:01\r\u001b[K     |████████████████████████▎       | 409kB 8.7MB/s eta 0:00:01\r\u001b[K     |████████████████████████▉       | 419kB 8.7MB/s eta 0:00:01\r\u001b[K     |█████████████████████████▌      | 430kB 8.7MB/s eta 0:00:01\r\u001b[K     |██████████████████████████      | 440kB 8.7MB/s eta 0:00:01\r\u001b[K     |██████████████████████████▊     | 450kB 8.7MB/s eta 0:00:01\r\u001b[K     |███████████████████████████▎    | 460kB 8.7MB/s eta 0:00:01\r\u001b[K     |████████████████████████████    | 471kB 8.7MB/s eta 0:00:01\r\u001b[K     |████████████████████████████▌   | 481kB 8.7MB/s eta 0:00:01\r\u001b[K     |█████████████████████████████▏  | 491kB 8.7MB/s eta 0:00:01\r\u001b[K     |█████████████████████████████▊  | 501kB 8.7MB/s eta 0:00:01\r\u001b[K     |██████████████████████████████▍ | 512kB 8.7MB/s eta 0:00:01\r\u001b[K     |███████████████████████████████ | 522kB 8.7MB/s eta 0:00:01\r\u001b[K     |███████████████████████████████▌| 532kB 8.7MB/s eta 0:00:01\r\u001b[K     |████████████████████████████████| 542kB 8.7MB/s \n",
            "\u001b[?25hRequirement already satisfied: numpy in /usr/local/lib/python3.7/dist-packages (from mglearn) (1.19.5)\n",
            "Requirement already satisfied: matplotlib in /usr/local/lib/python3.7/dist-packages (from mglearn) (3.2.2)\n",
            "Requirement already satisfied: scikit-learn in /usr/local/lib/python3.7/dist-packages (from mglearn) (0.22.2.post1)\n",
            "Requirement already satisfied: pandas in /usr/local/lib/python3.7/dist-packages (from mglearn) (1.1.5)\n",
            "Requirement already satisfied: pillow in /usr/local/lib/python3.7/dist-packages (from mglearn) (7.1.2)\n",
            "Requirement already satisfied: cycler in /usr/local/lib/python3.7/dist-packages (from mglearn) (0.10.0)\n",
            "Requirement already satisfied: imageio in /usr/local/lib/python3.7/dist-packages (from mglearn) (2.4.1)\n",
            "Requirement already satisfied: joblib in /usr/local/lib/python3.7/dist-packages (from mglearn) (1.0.1)\n",
            "Requirement already satisfied: python-dateutil>=2.1 in /usr/local/lib/python3.7/dist-packages (from matplotlib->mglearn) (2.8.1)\n",
            "Requirement already satisfied: kiwisolver>=1.0.1 in /usr/local/lib/python3.7/dist-packages (from matplotlib->mglearn) (1.3.1)\n",
            "Requirement already satisfied: pyparsing!=2.0.4,!=2.1.2,!=2.1.6,>=2.0.1 in /usr/local/lib/python3.7/dist-packages (from matplotlib->mglearn) (2.4.7)\n",
            "Requirement already satisfied: scipy>=0.17.0 in /usr/local/lib/python3.7/dist-packages (from scikit-learn->mglearn) (1.4.1)\n",
            "Requirement already satisfied: pytz>=2017.2 in /usr/local/lib/python3.7/dist-packages (from pandas->mglearn) (2018.9)\n",
            "Requirement already satisfied: six in /usr/local/lib/python3.7/dist-packages (from cycler->mglearn) (1.15.0)\n",
            "Building wheels for collected packages: mglearn\n",
            "  Building wheel for mglearn (setup.py) ... \u001b[?25l\u001b[?25hdone\n",
            "  Created wheel for mglearn: filename=mglearn-0.1.9-py2.py3-none-any.whl size=582638 sha256=d571eda9491818ade966f9c700cf520d9c2faa655324ce38d1e8daa6fb261e96\n",
            "  Stored in directory: /root/.cache/pip/wheels/eb/a6/ea/a6a3716233fa62fc561259b5cb1e28f79e9ff3592c0adac5f0\n",
            "Successfully built mglearn\n",
            "Installing collected packages: mglearn\n",
            "Successfully installed mglearn-0.1.9\n"
          ],
          "name": "stdout"
        }
      ]
    },
    {
      "cell_type": "code",
      "metadata": {
        "id": "ebaISvenBa-M"
      },
      "source": [
        "from IPython.display import display\n",
        "import numpy as np\n",
        "import pandas as pd\n",
        "import matplotlib.pyplot as plt\n",
        "import mglearn"
      ],
      "execution_count": 2,
      "outputs": []
    },
    {
      "cell_type": "code",
      "metadata": {
        "colab": {
          "base_uri": "https://localhost:8080/",
          "height": 353
        },
        "id": "1-sjehnrBnBr",
        "outputId": "9084208d-ff3f-464d-dd0e-98e3ea3ec73e"
      },
      "source": [
        "# 데이터셋 생성(대/소문자 구분)\n",
        "\n",
        "X, y = mglearn.datasets.make_forge()\n",
        "\n",
        "# 산점도 그림\n",
        "mglearn.discrete_scatter(X[:, 0], X[:, 1], y)\n",
        "plt.legend([\"class 0\", \"class 1\"], loc=4)   # legend = 범례\n",
        "plt.xlabel(\"first feature\")\n",
        "plt.ylabel(\"second feature\")\n",
        "print(\"X.shape : {}\".format(X.shape))"
      ],
      "execution_count": 4,
      "outputs": [
        {
          "output_type": "stream",
          "text": [
            "X.shape : (26, 2)\n"
          ],
          "name": "stdout"
        },
        {
          "output_type": "stream",
          "text": [
            "/usr/local/lib/python3.7/dist-packages/sklearn/utils/deprecation.py:87: FutureWarning: Function make_blobs is deprecated; Please import make_blobs directly from scikit-learn\n",
            "  warnings.warn(msg, category=FutureWarning)\n"
          ],
          "name": "stderr"
        },
        {
          "output_type": "display_data",
          "data": {
            "image/png": "[encoded data removed]",
            "text/plain": [
              "<Figure size 432x288 with 1 Axes>"
            ]
          },
          "metadata": {
            "tags": [],
            "needs_background": "light"
          }
        }
      ]
    },
    {
      "cell_type": "code",
      "metadata": {
        "colab": {
          "base_uri": "https://localhost:8080/",
          "height": 301
        },
        "id": "aNlZGfHBEiLj",
        "outputId": "ce519ad5-4666-4b13-bcf5-f0b357ab4e35"
      },
      "source": [
        "X, y = mglearn.datasets.make_wave(n_samples=40)\n",
        "\n",
        "plt.plot(X, y, 'o')\n",
        "plt.ylim(-3, 3)\n",
        "plt.xlabel(\"feature\")\n",
        "plt.ylabel(\"target\")"
      ],
      "execution_count": 27,
      "outputs": [
        {
          "output_type": "execute_result",
          "data": {
            "text/plain": [
              "Text(0, 0.5, 'target')"
            ]
          },
          "metadata": {
            "tags": []
          },
          "execution_count": 27
        },
        {
          "output_type": "display_data",
          "data": {
            "image/png": "[encoded data removed]",
            "text/plain": [
              "<Figure size 432x288 with 1 Axes>"
            ]
          },
          "metadata": {
            "tags": [],
            "needs_background": "light"
          }
        }
      ]
    },
    {
      "cell_type": "code",
      "metadata": {
        "colab": {
          "base_uri": "https://localhost:8080/"
        },
        "id": "MUhIZoceGLeT",
        "outputId": "10864b0c-944b-4dad-cc75-b8e72bf19f94"
      },
      "source": [
        "from sklearn.datasets import load_breast_cancer\n",
        "\n",
        "cancer = load_breast_cancer()\n",
        "print(\"cancer.keys() : {}\".format(cancer.keys()))\n",
        "\n",
        "# 데이터 포인트 개수 및 특성 수\n",
        "print(\"data : {}\".format(cancer.data.shape))\n",
        "\n",
        "# 569개의 class sample number\n",
        "print(\"class sample num : {}\".format({n : v for n, v in zip(cancer.target_names, np.bincount(cancer.target))}))"
      ],
      "execution_count": 28,
      "outputs": [
        {
          "output_type": "stream",
          "text": [
            "cancer.keys() : dict_keys(['data', 'target', 'target_names', 'DESCR', 'feature_names', 'filename'])\n",
            "data : (569, 30)\n",
            "class sample num : {'malignant': 212, 'benign': 357}\n"
          ],
          "name": "stdout"
        }
      ]
    },
    {
      "cell_type": "code",
      "metadata": {
        "colab": {
          "base_uri": "https://localhost:8080/",
          "height": 301
        },
        "id": "xZrZW5cgOozC",
        "outputId": "04bc7e34-2c9b-4870-aa36-049454ed15a8"
      },
      "source": [
        "mglearn.plots.plot_knn_classification(n_neighbors=3)"
      ],
      "execution_count": 35,
      "outputs": [
        {
          "output_type": "stream",
          "text": [
            "/usr/local/lib/python3.7/dist-packages/sklearn/utils/deprecation.py:87: FutureWarning: Function make_blobs is deprecated; Please import make_blobs directly from scikit-learn\n",
            "  warnings.warn(msg, category=FutureWarning)\n"
          ],
          "name": "stderr"
        },
        {
          "output_type": "display_data",
          "data": {
            "image/png": "[encoded data removed]",
            "text/plain": [
              "<Figure size 432x288 with 1 Axes>"
            ]
          },
          "metadata": {
            "tags": [],
            "needs_background": "light"
          }
        }
      ]
    },
    {
      "cell_type": "code",
      "metadata": {
        "colab": {
          "base_uri": "https://localhost:8080/"
        },
        "id": "d-QaczAcPtfg",
        "outputId": "73a60ec5-086b-4172-e429-29213e9065e5"
      },
      "source": [
        "# train_test_split 임포트하여 데이터를 훈련 세트와 테스트 세트로 나눔\n",
        "\n",
        "from sklearn.model_selection import train_test_split\n",
        "\n",
        "X, y = mglearn.datasets.make_forge()\n",
        "X_train, X_test, y_train, y_test = train_test_split(X, y, random_state=0)\n",
        "\n",
        "# knn 임포트하고 객체 생성\n",
        "\n",
        "from sklearn.neighbors import KNeighborsClassifier\n",
        "\n",
        "# 이웃의 수 매개변수 지정\n",
        "\n",
        "clf = KNeighborsClassifier(n_neighbors=3)\n",
        "\n",
        "# 훈련 세트를 사용해서 분류 모델 학습\n",
        "\n",
        "clf.fit(X_train, y_train)\n",
        "\n",
        "# 테스트 데이터를 사용해서 예측\n",
        "\n",
        "print(\"테스트 세트 예측 : \", clf.predict(X_test))\n",
        "\n",
        "# 모델이 얼마나 잘 일반화되었는지 정확도 평가\n",
        "\n",
        "print(\"정확도 : {}\".format(clf.score(X_test, y_test)))\n",
        "print(\"정확도 : {:.3f}\".format(clf.score(X_test, y_test)))"
      ],
      "execution_count": 40,
      "outputs": [
        {
          "output_type": "stream",
          "text": [
            "테스트 세트 예측 :  [1 0 1 0 1 0 0]\n",
            "정확도 : 0.8571428571428571\n",
            "정확도 : 0.857\n"
          ],
          "name": "stdout"
        },
        {
          "output_type": "stream",
          "text": [
            "/usr/local/lib/python3.7/dist-packages/sklearn/utils/deprecation.py:87: FutureWarning: Function make_blobs is deprecated; Please import make_blobs directly from scikit-learn\n",
            "  warnings.warn(msg, category=FutureWarning)\n"
          ],
          "name": "stderr"
        }
      ]
    }
  ]
}